{
 "cells": [
  {
   "cell_type": "markdown",
   "metadata": {},
   "source": [
    "# Tuning Neural Networks with Normalization\n",
    "\n",
    "## Introduction\n",
    "\n",
    "Now that we've investigated some methods for tuning our networks, we will investigate some further methods and concepts regarding reducing training time. These concepts will begin to form a more cohesive framework for choices along the modelling process.\n",
    "\n",
    "## Objectives\n",
    "You will be able to: \n",
    "\n",
    "- Explain what normalization does to training time with neural networks and why \n",
    "- Explain what a vanishing or exploding gradient is, and how it is related to model convergence \n",
    "- Compare the different optimizer strategies for neural networks "
   ]
  },
  {
   "cell_type": "markdown",
   "metadata": {},
   "source": [
    "## Normalized Inputs: Speed up Training\n",
    "\n",
    "One way to speed up training of your neural networks is to normalize the input. In fact, even if training time were not a concern, normalization to a consistent scale (typically 0 to 1) across features should be used to ensure that the process converges to a stable solution. Similar to some of our previous work in training models, one general process for standardizing our data is subtracting the mean and dividing by the standard deviation. "
   ]
  },
  {
   "cell_type": "markdown",
   "metadata": {},
   "source": [
    "## Vanishing or Exploding Gradients\n",
    "\n",
    "Not only will normalizing your inputs speed up training, it can also mitigate other risks inherent in training neural networks. For example, in a neural network, having input of various ranges can lead to difficult numerical problems when the algorithm goes to compute gradients during forward and back propogation. This can lead to untenable solutions and will prevent the algorithm from converging to a solution. In short, make sure you normalize your data! Here's a little more mathematical background: \n",
    "\n",
    "To demonstrate, imagine a very deep neural network. Assume $g(z)=z$ (so no transformation, just a linear activation function), and biases equal to 0. \n",
    "\n",
    "$\\hat y = w^{[L]}w^{[L-1]}w^{[L-2]}... w^{[3]}w^{[2]}w^{[1]}x$ \n",
    "\n",
    "recall that $z^{[1]} =w^{[1]}x $, and that $a^{[1]}=g(z^{[1]})=z^{[1]}$\n",
    "\n",
    "similarly, $a^{[2]}=g(z^{[2]})=g(w^{[2]}a^{[1]})$\n",
    "\n",
    "Imagine two nodes in each layer, and w =  $\\begin{bmatrix} 1.3 & 0 \\\\ 0 & 1.3 \\end{bmatrix}$ \n",
    "\n",
    "$\\hat y = w^{[L]} \\begin{bmatrix} 1.3 & 0 \\\\ 0 & 1.3 \\end{bmatrix}^{L-1}   x$\n",
    "\n",
    "Even if the $w$'s are slightly smaller than 1 or slightly larger, the activations will explode when there are many layers in the network!   "
   ]
  },
  {
   "cell_type": "markdown",
   "metadata": {},
   "source": [
    "## Other Solutions to Vanishing and Exploding Gradients\n",
    "\n",
    "Aside from normalizing the data, you can also investigate the impact of changing the initialization parameters when you first launch the gradient descent algorithm. \n",
    "\n",
    "For initialization, the more input features feeding into layer l, the smaller you want each $w_i$ to be.   \n",
    "\n",
    "A common rule of thumb is:   \n",
    "  \n",
    "$Var(w_i) = 1/n $  \n",
    "  \n",
    "or\n",
    "  \n",
    "$Var(w_i) = 2/n$  \n",
    "\n",
    "One common initialization strategy for the relu activation function is:  \n",
    "  \n",
    "```\n",
    "w^{[l]} = np.random.randn(shape)*np.sqrt(2/n_(l-1)) \n",
    "```\n",
    "  \n",
    "Later, we'll discuss other initialization strategies pertinent to other activation fuctions."
   ]
  },
  {
   "cell_type": "markdown",
   "metadata": {},
   "source": [
    "## Optimization  \n",
    "\n",
    "In addition, you could even use an alternative convergence algorithm instead of gradient descent. One issue with gradient descent is that it oscillates to a fairly big extent, because the derivative is bigger in the vertical direction.  \n",
    "\n",
    "<img src=\"images/new_optimizer.png\" width=\"600\">  \n",
    "\n",
    "With that, here are some optimization algorithms that work faster than gradient descent:"
   ]
  },
  {
   "cell_type": "markdown",
   "metadata": {},
   "source": [
    "### Gradient Descent with Momentum \n",
    "\n",
    "Compute an exponentially weighthed average of the gradients and use that gradient instead. The intuitive interpretation is that this will successively dampen oscillations, improving convergence.\n",
    "\n",
    "Momentum: \n",
    "\n",
    "- compute $dW$ and $db$ on the current minibatch \n",
    "\n",
    "- compute $V_{dw} = \\beta V_{dw} + (1-\\beta)dW$ and\n",
    "\n",
    "- compute $V_{db} = \\beta V_{db} + (1-\\beta)db$\n",
    "\n",
    "*These are the moving averages for the derivatives of $W$ and $b$*\n",
    "\n",
    "$W:= W- \\alpha Vdw$\n",
    "\n",
    "$b:= b- \\alpha Vdb$\n",
    "\n",
    "*This averages out gradient descent, and will \"dampen\" oscillations. Generally, $\\beta=0.9$ is a good hyperparameter value.*\n"
   ]
  },
  {
   "cell_type": "markdown",
   "metadata": {},
   "source": [
    "### RMSprop\n",
    "\n",
    "RMSprop stands for \"root mean square\" prop. It slows down learning in one direction and speed up in another one. On each iteration, it uses exponentially weighted average of the squares of the derivatives. \n",
    "\n",
    "$S_{dw} = \\beta S_{dw} + (1-\\beta)dW^2$\n",
    "\n",
    "$S_{db} = \\beta S_{dw} + (1-\\beta)db^2$\n",
    "\n",
    "$W:= W- \\alpha \\dfrac{dw}{\\sqrt{S_{dw}}}$ and\n",
    "\n",
    "$b:= b- \\alpha \\dfrac{db}{\\sqrt{S_{db}}}$\n",
    "\n",
    "In the direction where we want to learn fast, the corresponding $S$ will be small, so dividing by a small number. On the other hand, in the direction where we will want to learn slow, the corresponding $S$ will be relatively large, and updates will be smaller. \n",
    "\n",
    "Often, add small $\\epsilon$ in the denominator to make sure that you don't end up dividing by 0."
   ]
  },
  {
   "cell_type": "markdown",
   "metadata": {},
   "source": [
    "### Adam Optimization Algorithm\n",
    "\n",
    "\"Adaptive Moment Estimation\", basically using the first and second moment estimations. Works very well in many situations! It takes momentum and RMSprop to put it together!\n",
    "\n",
    "Initialize:\n",
    "\n",
    "$V_{dw}=0, S_{dw}=0, V_{db}=0, S_{db}=0$ \n",
    "\n",
    "For each iteration:\n",
    "\n",
    "Compute $dW, db$ using the current mini-batch: \n",
    "\n",
    "$V_{dw} = \\beta_1 V_{dw} + (1-\\beta_1)dW$, $V_{db} = \\beta_1 V_{db} + (1-\\beta_1)db$ \n",
    "\n",
    "$S_{dw} = \\beta_2 S_{dw} + (1-\\beta_2)dW^2$, $S_{db} = \\beta_2 S_{db} + (1-\\beta_2)db^2$ \n",
    "\n",
    "Is like momentum and then RMSprop. We need to perform a correction! This is sometimes also done in RSMprop, but definitely here too.\n",
    "\n",
    "\n",
    "$V^{corr}_{dw}= \\dfrac{V_{dw}}{1-\\beta_1^t}$, $V^{corr}_{db}= \\dfrac{V_{db}}{1-\\beta_1^t}$\n",
    "\n",
    "$S^{corr}_{dw}= \\dfrac{S_{dw}}{1-\\beta_2^t}$, $S^{corr}_{db}= \\dfrac{S_{db}}{1-\\beta_2^t}$\n",
    "\n",
    "$W:= W- \\alpha \\dfrac{V^{corr}_{dw}}{\\sqrt{S^{corr}_{dw}+\\epsilon}}$ and\n",
    "\n",
    "$b:= b- \\alpha \\dfrac{V^{corr}_{db}}{\\sqrt{S^{corr}_{db}+\\epsilon}}$  \n",
    "\n",
    "\n",
    "Hyperparameters: \n",
    "\n",
    "- $\\alpha$ \n",
    "- $\\beta_1 = 0.9$\n",
    "- $\\beta_2 = 0.999$\n",
    "- $\\epsilon = 10^{-8}$\n",
    "\n",
    "Generally, only $\\alpha$ gets tuned."
   ]
  },
  {
   "cell_type": "markdown",
   "metadata": {},
   "source": [
    "### Learning Rate Decay \n",
    "\n",
    "Learning rate decreases across epochs.\n",
    "\n",
    "$\\alpha = \\dfrac{1}{1+\\text{decay_rate * epoch_nb}}* \\alpha_0$\n",
    "\n",
    "other methods:\n",
    "\n",
    "$\\alpha = 0.97 ^{\\text{epoch_nb}}* \\alpha_0$ (or exponential decay)\n",
    "\n",
    "or\n",
    "\n",
    "$\\alpha = \\dfrac{k}{\\sqrt{\\text{epoch_nb}}}* \\alpha_0$\n",
    "\n",
    "or\n",
    "\n",
    "Manual decay!\n"
   ]
  },
  {
   "cell_type": "markdown",
   "metadata": {},
   "source": [
    "## Hyperparameter Tuning \n",
    "\n",
    "Now that you've seen some optimization algorithms, take another look at all the hyperparameters that need tuning: \n",
    "\n",
    "Most important:\n",
    "- $\\alpha$\n",
    "\n",
    "Next:\n",
    "- $\\beta$ (momentum)\n",
    "- Number of hidden units\n",
    "- mini-batch-size\n",
    "\n",
    "Finally:\n",
    "- Number of layers\n",
    "- Learning rate decay\n",
    "\n",
    "Almost never tuned:\n",
    "- $\\beta_1$, $\\beta_2$, $\\epsilon$ (Adam)\n",
    "\n",
    "Things to do:\n",
    "\n",
    "- Don't use a grid, because hard to say in advance which hyperparameters will be important"
   ]
  },
  {
   "cell_type": "markdown",
   "metadata": {},
   "source": [
    "## Additional Resources  \n",
    "\n",
    "- https://www.coursera.org/learn/deep-neural-network/lecture/lXv6U/normalizing-inputs \n",
    "- https://www.coursera.org/learn/deep-neural-network/lecture/y0m1f/gradient-descent-with-momentum \n",
    "\n",
    "\n",
    "## Summary \n",
    "\n",
    "In this lesson you began learning about issues regarding the convergence of neural networks training. This included the need for normalization as well as initialization parameters and some optimization algorithms. In the upcoming lab, you'll further investigate these ideas in practice and observe their impacts from various perspectives."
   ]
  }
 ],
 "metadata": {
  "kernelspec": {
   "display_name": "Python 3",
   "language": "python",
   "name": "python3"
  },
  "language_info": {
   "codemirror_mode": {
    "name": "ipython",
    "version": 3
   },
   "file_extension": ".py",
   "mimetype": "text/x-python",
   "name": "python",
   "nbconvert_exporter": "python",
   "pygments_lexer": "ipython3",
   "version": "3.6.9"
  }
 },
 "nbformat": 4,
 "nbformat_minor": 2
}
